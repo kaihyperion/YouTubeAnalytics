{
 "cells": [
  {
   "cell_type": "code",
   "execution_count": 38,
   "id": "67bd2d00",
   "metadata": {},
   "outputs": [],
   "source": [
    "import pandas as pd\n",
    "import numpy as np\n",
    "import matplotlib.pyplot as plt"
   ]
  },
  {
   "cell_type": "code",
   "execution_count": 39,
   "id": "df501fdd",
   "metadata": {},
   "outputs": [],
   "source": [
    "# first read the excel file or csv file\n",
    "f = pd.read_csv('shift_groupA.csv')"
   ]
  },
  {
   "cell_type": "code",
   "execution_count": 40,
   "id": "765195bf",
   "metadata": {},
   "outputs": [
    {
     "name": "stdout",
     "output_type": "stream",
     "text": [
      "      Unnamed: 0      videoID                 channelID  \\\n",
      "0              0  NU5bhEFUkAE  UC7rtqlDcwGBJlxltvTu3EUQ   \n",
      "1              1  NU5bhEFUkAE  UC7rtqlDcwGBJlxltvTu3EUQ   \n",
      "2              2  NU5bhEFUkAE  UC7rtqlDcwGBJlxltvTu3EUQ   \n",
      "3              3  NU5bhEFUkAE  UC7rtqlDcwGBJlxltvTu3EUQ   \n",
      "4              4  NU5bhEFUkAE  UC7rtqlDcwGBJlxltvTu3EUQ   \n",
      "...          ...          ...                       ...   \n",
      "2495          95  vafp-NnhJFs  UC7rtqlDcwGBJlxltvTu3EUQ   \n",
      "2496          96  vafp-NnhJFs  UC7rtqlDcwGBJlxltvTu3EUQ   \n",
      "2497          97  vafp-NnhJFs  UC7rtqlDcwGBJlxltvTu3EUQ   \n",
      "2498          98  vafp-NnhJFs  UC7rtqlDcwGBJlxltvTu3EUQ   \n",
      "2499          99  vafp-NnhJFs  UC7rtqlDcwGBJlxltvTu3EUQ   \n",
      "\n",
      "      elapsedVideoTimeRatio  relativeRetentionPerformance  \n",
      "0                      0.01                       0.39350  \n",
      "1                      0.02                       0.46225  \n",
      "2                      0.03                       0.50855  \n",
      "3                      0.04                       0.52500  \n",
      "4                      0.05                       0.53080  \n",
      "...                     ...                           ...  \n",
      "2495                   0.96                       0.27380  \n",
      "2496                   0.97                       0.24425  \n",
      "2497                   0.98                       0.21715  \n",
      "2498                   0.99                       0.19755  \n",
      "2499                   1.00                       0.18705  \n",
      "\n",
      "[2500 rows x 5 columns]\n"
     ]
    }
   ],
   "source": [
    "print(f)"
   ]
  },
  {
   "cell_type": "code",
   "execution_count": 41,
   "id": "4d2a436f",
   "metadata": {},
   "outputs": [],
   "source": [
    "a = pd.pivot_table(f, index = 'elapsedVideoTimeRatio', values = 'relativeRetentionPerformance', aggfunc='mean')"
   ]
  },
  {
   "cell_type": "code",
   "execution_count": 42,
   "id": "642b84b5",
   "metadata": {},
   "outputs": [
    {
     "data": {
      "text/plain": [
       "array([[0.42231 ],\n",
       "       [0.492948],\n",
       "       [0.537252],\n",
       "       [0.55349 ],\n",
       "       [0.566984],\n",
       "       [0.58353 ],\n",
       "       [0.602082],\n",
       "       [0.621476],\n",
       "       [0.639412],\n",
       "       [0.652454],\n",
       "       [0.658292],\n",
       "       [0.657772],\n",
       "       [0.653944],\n",
       "       [0.649808],\n",
       "       [0.64689 ],\n",
       "       [0.645088],\n",
       "       [0.643492],\n",
       "       [0.64124 ],\n",
       "       [0.637856],\n",
       "       [0.633164],\n",
       "       [0.627232],\n",
       "       [0.620806],\n",
       "       [0.615456],\n",
       "       [0.612522],\n",
       "       [0.6121  ],\n",
       "       [0.612888],\n",
       "       [0.613338],\n",
       "       [0.612688],\n",
       "       [0.610434],\n",
       "       [0.605954],\n",
       "       [0.599414],\n",
       "       [0.592452],\n",
       "       [0.587134],\n",
       "       [0.584434],\n",
       "       [0.5842  ],\n",
       "       [0.58536 ],\n",
       "       [0.586244],\n",
       "       [0.585978],\n",
       "       [0.584944],\n",
       "       [0.58336 ],\n",
       "       [0.580242],\n",
       "       [0.574484],\n",
       "       [0.566734],\n",
       "       [0.558922],\n",
       "       [0.55218 ],\n",
       "       [0.545994],\n",
       "       [0.539584],\n",
       "       [0.533356],\n",
       "       [0.528768],\n",
       "       [0.526796],\n",
       "       [0.526818],\n",
       "       [0.527544],\n",
       "       [0.52813 ],\n",
       "       [0.527524],\n",
       "       [0.5242  ],\n",
       "       [0.517708],\n",
       "       [0.50974 ],\n",
       "       [0.50266 ],\n",
       "       [0.497354],\n",
       "       [0.493102],\n",
       "       [0.489418],\n",
       "       [0.486842],\n",
       "       [0.485764],\n",
       "       [0.485022],\n",
       "       [0.48241 ],\n",
       "       [0.476938],\n",
       "       [0.46983 ],\n",
       "       [0.46267 ],\n",
       "       [0.45573 ],\n",
       "       [0.448736],\n",
       "       [0.441806],\n",
       "       [0.435308],\n",
       "       [0.42921 ],\n",
       "       [0.423346],\n",
       "       [0.417742],\n",
       "       [0.412336],\n",
       "       [0.40692 ],\n",
       "       [0.40199 ],\n",
       "       [0.39813 ],\n",
       "       [0.394258],\n",
       "       [0.388066],\n",
       "       [0.37821 ],\n",
       "       [0.36511 ],\n",
       "       [0.350256],\n",
       "       [0.335072],\n",
       "       [0.320194],\n",
       "       [0.305688],\n",
       "       [0.291446],\n",
       "       [0.277496],\n",
       "       [0.264172],\n",
       "       [0.251968],\n",
       "       [0.241198],\n",
       "       [0.231806],\n",
       "       [0.22337 ],\n",
       "       [0.215632],\n",
       "       [0.208856],\n",
       "       [0.203952],\n",
       "       [0.202302],\n",
       "       [0.20467 ],\n",
       "       [0.208682]])"
      ]
     },
     "execution_count": 42,
     "metadata": {},
     "output_type": "execute_result"
    }
   ],
   "source": [
    "a.values"
   ]
  },
  {
   "cell_type": "code",
   "execution_count": 43,
   "id": "04e0ee40",
   "metadata": {},
   "outputs": [],
   "source": [
    "c = pd.DataFrame(a)"
   ]
  },
  {
   "cell_type": "code",
   "execution_count": 44,
   "id": "39189aa9",
   "metadata": {},
   "outputs": [],
   "source": [
    "b = np.mean(a['relativeRetentionPerformance'])"
   ]
  },
  {
   "cell_type": "code",
   "execution_count": 45,
   "id": "f5c33a39",
   "metadata": {},
   "outputs": [
    {
     "data": {
      "text/plain": [
       "0.49190814000000005"
      ]
     },
     "execution_count": 45,
     "metadata": {},
     "output_type": "execute_result"
    }
   ],
   "source": [
    "b"
   ]
  },
  {
   "cell_type": "code",
   "execution_count": 46,
   "id": "5578a65a",
   "metadata": {},
   "outputs": [],
   "source": [
    "group = 'group '"
   ]
  },
  {
   "cell_type": "code",
   "execution_count": 49,
   "id": "5322c826",
   "metadata": {},
   "outputs": [
    {
     "name": "stdout",
     "output_type": "stream",
     "text": [
      "0.658292\n",
      "0.11\n",
      "[0.658292]\n"
     ]
    },
    {
     "data": {
      "text/plain": [
       "Text(0.2, 0.9, 'Maximum at (0.11, 65.8292%)')"
      ]
     },
     "execution_count": 49,
     "metadata": {},
     "output_type": "execute_result"
    },
    {
     "data": {
      "image/png": "[encoded data removed]",
      "text/plain": [
       "<Figure size 432x288 with 1 Axes>"
      ]
     },
     "metadata": {
      "needs_background": "light"
     },
     "output_type": "display_data"
    }
   ],
   "source": [
    "y_max = a.values.max()\n",
    "x_max = a.index[np.argmax(a.values)]\n",
    "print(y_max)\n",
    "print(x_max)\n",
    "print(a.values[10])\n",
    "plt.ylim(0, 1)\n",
    "plt.plot(a.index, a.values)\n",
    "plt.title(group)\n",
    "plt.ylabel('Relative Retention Performance')\n",
    "plt.xlabel('Elapsed Video Time Ratio')\n",
    "plt.annotate(f'Maximum at ({x_max}, {y_max*100}%)', xy=(x_max, y_max), xytext = (.2, .9) ,arrowprops = dict(facecolor = 'green', shrink = 0.05),)"
   ]
  },
  {
   "cell_type": "code",
   "execution_count": null,
   "id": "265175ca",
   "metadata": {},
   "outputs": [],
   "source": []
  }
 ],
 "metadata": {
  "kernelspec": {
   "display_name": "AMAtest1",
   "language": "python",
   "name": "amatest1"
  },
  "language_info": {
   "codemirror_mode": {
    "name": "ipython",
    "version": 3
   },
   "file_extension": ".py",
   "mimetype": "text/x-python",
   "name": "python",
   "nbconvert_exporter": "python",
   "pygments_lexer": "ipython3",
   "version": "3.10.0"
  }
 },
 "nbformat": 4,
 "nbformat_minor": 5
}
