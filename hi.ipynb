{
 "cells": [
  {
   "cell_type": "code",
   "execution_count": 34,
   "id": "d46ab209",
   "metadata": {},
   "outputs": [],
   "source": [
    "from oauth2client.client import OAuth2Credentials\n",
    "from yaml import CLoader as Loader\n",
    "from yaml import load\n",
    "import json\n",
    "from googleapiclient.discovery import build"
   ]
  },
  {
   "cell_type": "code",
   "execution_count": 20,
   "id": "7b2d9b19",
   "metadata": {},
   "outputs": [
    {
     "name": "stdout",
     "output_type": "stream",
     "text": [
      "<class 'str'>\n"
     ]
    },
    {
     "data": {
      "text/plain": [
       "{'access_token': 'ya29.A0ARrdaM_Zh0xCtD3zAUqIjJyGLNN5yEe2UKelMASzmq6BTrURCT1tminAbtTFJdf_eUscM7O5nhZFqjLC1VfP_NL-TSGlemj6mYsWjODZckw5lt1YZLIIMR7WPcAmEZ5SXYqpwMxmvmpYKhSz2NSU6nHqhB2T',\n",
       " 'expires_at': 1643507769.1775682,\n",
       " 'expires_in': 3599,\n",
       " 'refresh_token': '1//04qA49y8ugcoICgYIARAAGAQSNwF-L9IrqqcFHP592-ISuGVGxcwPwnmnU4Z_mUeXy0tp1oIP60YSzGWma2-eRxvq_JVVA3TMKoo',\n",
       " 'scope': ['https://www.googleapis.com/auth/yt-analytics-monetary.readonly',\n",
       "  'https://www.googleapis.com/auth/yt-analytics.readonly'],\n",
       " 'token_type': 'Bearer'}"
      ]
     },
     "execution_count": 20,
     "metadata": {},
     "output_type": "execute_result"
    }
   ],
   "source": [
    "a = 'hi'\n",
    "with open('token.yaml', 'r') as stream:\n",
    "    token = load(stream, Loader=Loader)\n",
    "    print(type(token['access_token']))\n",
    "token\n",
    "    "
   ]
  },
  {
   "cell_type": "code",
   "execution_count": 26,
   "id": "82a5c40f",
   "metadata": {},
   "outputs": [],
   "source": [
    "a = json.load(open('secret_kai.json'))"
   ]
  },
  {
   "cell_type": "code",
   "execution_count": 29,
   "id": "4a8f0a95",
   "metadata": {},
   "outputs": [],
   "source": [
    "secret_file = a['installed']"
   ]
  },
  {
   "cell_type": "code",
   "execution_count": 30,
   "id": "cf0c0400",
   "metadata": {},
   "outputs": [
    {
     "data": {
      "text/plain": [
       "{'client_id': '198059744762-r79edteei6m8gctv58eiu0745hb3nnjj.apps.googleusercontent.com',\n",
       " 'project_id': 'amatest1',\n",
       " 'auth_uri': 'https://accounts.google.com/o/oauth2/auth',\n",
       " 'token_uri': 'https://oauth2.googleapis.com/token',\n",
       " 'auth_provider_x509_cert_url': 'https://www.googleapis.com/oauth2/v1/certs',\n",
       " 'client_secret': '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',\n",
       " 'redirect_uris': ['urn:ietf:wg:oauth:2.0:oob', 'http://localhost']}"
      ]
     },
     "execution_count": 30,
     "metadata": {},
     "output_type": "execute_result"
    }
   ],
   "source": [
    "secret_file"
   ]
  },
  {
   "cell_type": "code",
   "execution_count": 13,
   "id": "135e7559",
   "metadata": {},
   "outputs": [
    {
     "data": {
      "text/plain": [
       "{'access_token': 'ya29.A0ARrdaM_Zh0xCtD3zAUqIjJyGLNN5yEe2UKelMASzmq6BTrURCT1tminAbtTFJdf_eUscM7O5nhZFqjLC1VfP_NL-TSGlemj6mYsWjODZckw5lt1YZLIIMR7WPcAmEZ5SXYqpwMxmvmpYKhSz2NSU6nHqhB2T',\n",
       " 'expires_at': 1643507769.1775682,\n",
       " 'expires_in': 3599,\n",
       " 'refresh_token': '1//04qA49y8ugcoICgYIARAAGAQSNwF-L9IrqqcFHP592-ISuGVGxcwPwnmnU4Z_mUeXy0tp1oIP60YSzGWma2-eRxvq_JVVA3TMKoo',\n",
       " 'scope': ['https://www.googleapis.com/auth/yt-analytics-monetary.readonly',\n",
       "  'https://www.googleapis.com/auth/yt-analytics.readonly'],\n",
       " 'token_type': 'Bearer'}"
      ]
     },
     "execution_count": 13,
     "metadata": {},
     "output_type": "execute_result"
    }
   ],
   "source": [
    "token"
   ]
  },
  {
   "cell_type": "code",
   "execution_count": 32,
   "id": "8eb00083",
   "metadata": {},
   "outputs": [],
   "source": [
    "a = OAuth2Credentials(access_token = token['access_token'],\n",
    "                     client_id = secret_file['client_id'],\n",
    "                     client_secret = secret_file['client_secret'],\n",
    "                     refresh_token=token['refresh_token'],\n",
    "                     token_expiry=token['expires_at'],\n",
    "                     token_uri=secret_file['token_uri'],\n",
    "                     user_agent='')"
   ]
  },
  {
   "cell_type": "code",
   "execution_count": 33,
   "id": "60d21a90",
   "metadata": {},
   "outputs": [
    {
     "data": {
      "text/plain": [
       "<oauth2client.client.OAuth2Credentials at 0x7f8ea06c0310>"
      ]
     },
     "execution_count": 33,
     "metadata": {},
     "output_type": "execute_result"
    }
   ],
   "source": [
    "a"
   ]
  },
  {
   "cell_type": "code",
   "execution_count": 35,
   "id": "1051a9ec",
   "metadata": {},
   "outputs": [],
   "source": [
    "serviceName = 'youtubereporting'\n",
    "API_VERSION = 'v1'\n",
    "x = build(serviceName= serviceName, version= API_VERSION,\n",
    "              credentials= a)"
   ]
  },
  {
   "cell_type": "code",
   "execution_count": 36,
   "id": "5e514f69",
   "metadata": {},
   "outputs": [
    {
     "data": {
      "text/plain": [
       "<googleapiclient.discovery.Resource at 0x7f8ea05da8f0>"
      ]
     },
     "execution_count": 36,
     "metadata": {},
     "output_type": "execute_result"
    }
   ],
   "source": [
    "x"
   ]
  },
  {
   "cell_type": "code",
   "execution_count": 37,
   "id": "324286ca",
   "metadata": {},
   "outputs": [],
   "source": [
    "result = x.jobs().list().execute()"
   ]
  },
  {
   "cell_type": "code",
   "execution_count": 38,
   "id": "0c409baa",
   "metadata": {},
   "outputs": [
    {
     "data": {
      "text/plain": [
       "{'jobs': [{'id': '12b81423-5388-4dc3-902c-cdcddb6199c9',\n",
       "   'reportTypeId': 'playlist_traffic_source_a1',\n",
       "   'name': 'test18',\n",
       "   'createTime': '2022-01-11T23:38:31Z'},\n",
       "  {'id': '136004dd-5c8e-47ed-95e7-5355832185e9',\n",
       "   'reportTypeId': 'playlist_basic_a1',\n",
       "   'name': 'test13',\n",
       "   'createTime': '2022-01-11T23:38:29Z'},\n",
       "  {'id': '4e3bd3c7-2eac-45c9-a818-22923ed5adda',\n",
       "   'reportTypeId': 'playlist_device_os_a1',\n",
       "   'name': 'test15',\n",
       "   'createTime': '2022-01-11T23:38:30Z'},\n",
       "  {'id': '54fc763b-e0c8-44e2-acd2-07ea1686a6f4',\n",
       "   'reportTypeId': 'channel_playback_location_a2',\n",
       "   'name': 'test8',\n",
       "   'createTime': '2022-01-11T23:38:27Z'},\n",
       "  {'id': '6794f1df-02ea-45e4-a87e-6d1b26b0d8e0',\n",
       "   'reportTypeId': 'channel_sharing_service_a1',\n",
       "   'name': 'test10',\n",
       "   'createTime': '2022-01-11T23:38:28Z'},\n",
       "  {'id': '6c0310e7-3a29-483c-9135-de59e4584beb',\n",
       "   'reportTypeId': 'channel_subtitles_a2',\n",
       "   'name': 'test11',\n",
       "   'createTime': '2022-01-11T23:38:29Z'},\n",
       "  {'id': '6df23304-1fd8-4554-a396-5c447ef005d8',\n",
       "   'reportTypeId': 'channel_end_screens_a1',\n",
       "   'name': 'test7',\n",
       "   'createTime': '2022-01-11T23:38:27Z'},\n",
       "  {'id': '740fef9b-ee75-409c-92a0-10ef829545c5',\n",
       "   'reportTypeId': 'channel_annotations_a1',\n",
       "   'name': 'test2',\n",
       "   'createTime': '2022-01-11T23:34:59Z'},\n",
       "  {'id': '78225697-0822-480f-834d-e20c87962906',\n",
       "   'reportTypeId': 'playlist_province_a1',\n",
       "   'name': 'test17',\n",
       "   'createTime': '2022-01-11T23:38:30Z'},\n",
       "  {'id': '80d60e4b-6da5-485f-98b3-ed6358c703e1',\n",
       "   'reportTypeId': 'channel_basic_a2',\n",
       "   'name': 'test1',\n",
       "   'createTime': '2022-01-08T19:32:39Z'},\n",
       "  {'id': '8240f22c-7ed9-4c5d-96d2-91c396b2afc1',\n",
       "   'reportTypeId': 'channel_province_a2',\n",
       "   'name': 'test9',\n",
       "   'createTime': '2022-01-11T23:38:28Z'},\n",
       "  {'id': '8a479bf9-d243-45e7-91fb-f1bd20242b70',\n",
       "   'reportTypeId': 'channel_demographics_a1',\n",
       "   'name': 'test5',\n",
       "   'createTime': '2022-01-11T23:38:26Z'},\n",
       "  {'id': '9bf92c9f-91c0-4d26-af99-df6e7e246ab0',\n",
       "   'reportTypeId': 'channel_traffic_source_a2',\n",
       "   'name': 'test12',\n",
       "   'createTime': '2022-01-11T23:38:29Z'},\n",
       "  {'id': 'd904d433-af16-434f-8274-ffbf91d061c6',\n",
       "   'reportTypeId': 'channel_combined_a2',\n",
       "   'name': 'test4',\n",
       "   'createTime': '2022-01-11T23:38:26Z'},\n",
       "  {'id': 'e7f60515-ff1d-4024-929c-365ffeef1918',\n",
       "   'reportTypeId': 'playlist_playback_location_a1',\n",
       "   'name': 'test16',\n",
       "   'createTime': '2022-01-11T23:38:30Z'},\n",
       "  {'id': 'eb104dbe-7159-4726-8eb2-1fe5b9b1ac1d',\n",
       "   'reportTypeId': 'channel_cards_a1',\n",
       "   'name': 'test3',\n",
       "   'createTime': '2022-01-11T23:38:25Z'},\n",
       "  {'id': 'f19ca229-e9d6-41bf-8275-cf63f06f66b7',\n",
       "   'reportTypeId': 'playlist_combined_a1',\n",
       "   'name': 'test14',\n",
       "   'createTime': '2022-01-11T23:38:29Z'},\n",
       "  {'id': 'f270efae-b6da-4901-80eb-4a048ff44b05',\n",
       "   'reportTypeId': 'channel_device_os_a2',\n",
       "   'name': 'test6',\n",
       "   'createTime': '2022-01-11T23:38:27Z'}]}"
      ]
     },
     "execution_count": 38,
     "metadata": {},
     "output_type": "execute_result"
    }
   ],
   "source": [
    "result"
   ]
  },
  {
   "cell_type": "code",
   "execution_count": null,
   "id": "0d4c7442",
   "metadata": {},
   "outputs": [],
   "source": []
  }
 ],
 "metadata": {
  "kernelspec": {
   "display_name": "AMAtest1",
   "language": "python",
   "name": "amatest1"
  },
  "language_info": {
   "codemirror_mode": {
    "name": "ipython",
    "version": 3
   },
   "file_extension": ".py",
   "mimetype": "text/x-python",
   "name": "python",
   "nbconvert_exporter": "python",
   "pygments_lexer": "ipython3",
   "version": "3.10.0"
  }
 },
 "nbformat": 4,
 "nbformat_minor": 5
}
